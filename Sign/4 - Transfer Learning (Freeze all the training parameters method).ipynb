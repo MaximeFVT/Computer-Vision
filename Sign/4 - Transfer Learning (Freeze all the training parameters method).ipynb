{
 "cells": [
  {
   "cell_type": "markdown",
   "metadata": {},
   "source": [
    "#### We import our data"
   ]
  },
  {
   "cell_type": "code",
   "execution_count": 1,
   "metadata": {},
   "outputs": [],
   "source": [
    "import numpy as np\n",
    "X = np.load('data/X.npy')\n",
    "Y = np.load('data/Y.npy')"
   ]
  },
  {
   "cell_type": "code",
   "execution_count": 2,
   "metadata": {},
   "outputs": [
    {
     "data": {
      "text/plain": [
       "(2062, 64, 64, 3)"
      ]
     },
     "execution_count": 2,
     "metadata": {},
     "output_type": "execute_result"
    }
   ],
   "source": [
    "X = np.stack((X, X, X), axis=3)  # we stack 3  times the numpy array in order to have 3 depths (to match the pretrained model)\n",
    "X.shape"
   ]
  },
  {
   "cell_type": "markdown",
   "metadata": {},
   "source": [
    "#### We load the pre trained model VGG16"
   ]
  },
  {
   "cell_type": "code",
   "execution_count": 3,
   "metadata": {},
   "outputs": [
    {
     "name": "stderr",
     "output_type": "stream",
     "text": [
      "Using TensorFlow backend.\n"
     ]
    },
    {
     "name": "stdout",
     "output_type": "stream",
     "text": [
      "Model: \"vgg16\"\n",
      "_________________________________________________________________\n",
      "Layer (type)                 Output Shape              Param #   \n",
      "=================================================================\n",
      "input_1 (InputLayer)         (None, 64, 64, 3)         0         \n",
      "_________________________________________________________________\n",
      "block1_conv1 (Conv2D)        (None, 64, 64, 64)        1792      \n",
      "_________________________________________________________________\n",
      "block1_conv2 (Conv2D)        (None, 64, 64, 64)        36928     \n",
      "_________________________________________________________________\n",
      "block1_pool (MaxPooling2D)   (None, 32, 32, 64)        0         \n",
      "_________________________________________________________________\n",
      "block2_conv1 (Conv2D)        (None, 32, 32, 128)       73856     \n",
      "_________________________________________________________________\n",
      "block2_conv2 (Conv2D)        (None, 32, 32, 128)       147584    \n",
      "_________________________________________________________________\n",
      "block2_pool (MaxPooling2D)   (None, 16, 16, 128)       0         \n",
      "_________________________________________________________________\n",
      "block3_conv1 (Conv2D)        (None, 16, 16, 256)       295168    \n",
      "_________________________________________________________________\n",
      "block3_conv2 (Conv2D)        (None, 16, 16, 256)       590080    \n",
      "_________________________________________________________________\n",
      "block3_conv3 (Conv2D)        (None, 16, 16, 256)       590080    \n",
      "_________________________________________________________________\n",
      "block3_pool (MaxPooling2D)   (None, 8, 8, 256)         0         \n",
      "_________________________________________________________________\n",
      "block4_conv1 (Conv2D)        (None, 8, 8, 512)         1180160   \n",
      "_________________________________________________________________\n",
      "block4_conv2 (Conv2D)        (None, 8, 8, 512)         2359808   \n",
      "_________________________________________________________________\n",
      "block4_conv3 (Conv2D)        (None, 8, 8, 512)         2359808   \n",
      "_________________________________________________________________\n",
      "block4_pool (MaxPooling2D)   (None, 4, 4, 512)         0         \n",
      "_________________________________________________________________\n",
      "block5_conv1 (Conv2D)        (None, 4, 4, 512)         2359808   \n",
      "_________________________________________________________________\n",
      "block5_conv2 (Conv2D)        (None, 4, 4, 512)         2359808   \n",
      "_________________________________________________________________\n",
      "block5_conv3 (Conv2D)        (None, 4, 4, 512)         2359808   \n",
      "_________________________________________________________________\n",
      "block5_pool (MaxPooling2D)   (None, 2, 2, 512)         0         \n",
      "=================================================================\n",
      "Total params: 14,714,688\n",
      "Trainable params: 14,714,688\n",
      "Non-trainable params: 0\n",
      "_________________________________________________________________\n",
      "None\n"
     ]
    }
   ],
   "source": [
    "from keras.applications.vgg16 import VGG16\n",
    "vgg_base = VGG16(weights=\"imagenet\", include_top=False, classes=10, input_shape=(64,64,3))\n",
    "print(vgg_base.summary())"
   ]
  },
  {
   "cell_type": "markdown",
   "metadata": {},
   "source": [
    "#### Récupération des features de X"
   ]
  },
  {
   "cell_type": "code",
   "execution_count": 4,
   "metadata": {},
   "outputs": [],
   "source": [
    "features_train = vgg_base.predict(X)"
   ]
  },
  {
   "cell_type": "code",
   "execution_count": 5,
   "metadata": {},
   "outputs": [
    {
     "data": {
      "text/plain": [
       "(2062, 2, 2, 512)"
      ]
     },
     "execution_count": 5,
     "metadata": {},
     "output_type": "execute_result"
    }
   ],
   "source": [
    "features_train.shape"
   ]
  },
  {
   "cell_type": "markdown",
   "metadata": {},
   "source": [
    "#### Reshape des features extraites"
   ]
  },
  {
   "cell_type": "code",
   "execution_count": 6,
   "metadata": {},
   "outputs": [],
   "source": [
    "train_x=features_train.reshape(2062,2048) # (2x2x512=2048)"
   ]
  },
  {
   "cell_type": "code",
   "execution_count": 7,
   "metadata": {},
   "outputs": [
    {
     "data": {
      "text/plain": [
       "(2062, 2048)"
      ]
     },
     "execution_count": 7,
     "metadata": {},
     "output_type": "execute_result"
    }
   ],
   "source": [
    "train_x.shape"
   ]
  },
  {
   "cell_type": "markdown",
   "metadata": {},
   "source": [
    "#### Split de train_x et Y"
   ]
  },
  {
   "cell_type": "code",
   "execution_count": 9,
   "metadata": {},
   "outputs": [],
   "source": [
    "from sklearn.model_selection import train_test_split\n",
    "X_train, X_valid, y_train, y_valid = train_test_split(train_x, Y, test_size=0.3, random_state=42)"
   ]
  },
  {
   "cell_type": "markdown",
   "metadata": {},
   "source": [
    "#### Création du modèle"
   ]
  },
  {
   "cell_type": "code",
   "execution_count": 10,
   "metadata": {},
   "outputs": [],
   "source": [
    "import keras\n",
    "from keras.models import Sequential\n",
    "from keras.layers import Dense, Activation"
   ]
  },
  {
   "cell_type": "code",
   "execution_count": 11,
   "metadata": {},
   "outputs": [],
   "source": [
    "model=Sequential()\n",
    "\n",
    "model.add(Dense(1000, input_dim=2048, activation='relu',kernel_initializer='uniform'))\n",
    "keras.layers.core.Dropout(0.3, noise_shape=None, seed=None)\n",
    "\n",
    "model.add(Dense(500,input_dim=1000,activation='sigmoid'))\n",
    "keras.layers.core.Dropout(0.4, noise_shape=None, seed=None)\n",
    "\n",
    "model.add(Dense(150,input_dim=500,activation='sigmoid'))\n",
    "keras.layers.core.Dropout(0.2, noise_shape=None, seed=None)\n",
    "\n",
    "model.add(Dense(units=10))\n",
    "model.add(Activation('softmax'))\n",
    "\n",
    "model.compile(loss='categorical_crossentropy', optimizer=\"adam\", metrics=['accuracy'])"
   ]
  },
  {
   "cell_type": "markdown",
   "metadata": {},
   "source": [
    "#### Entrainement du modèle"
   ]
  },
  {
   "cell_type": "code",
   "execution_count": 12,
   "metadata": {},
   "outputs": [
    {
     "name": "stdout",
     "output_type": "stream",
     "text": [
      "Train on 1443 samples, validate on 619 samples\n",
      "Epoch 1/20\n",
      "1443/1443 [==============================] - 3s 2ms/step - loss: 1.7277 - accuracy: 0.4428 - val_loss: 1.1165 - val_accuracy: 0.6527\n",
      "Epoch 2/20\n",
      "1443/1443 [==============================] - 2s 2ms/step - loss: 0.7770 - accuracy: 0.7672 - val_loss: 0.5765 - val_accuracy: 0.8110\n",
      "Epoch 3/20\n",
      "1443/1443 [==============================] - 3s 2ms/step - loss: 0.4663 - accuracy: 0.8496 - val_loss: 0.3917 - val_accuracy: 0.8805\n",
      "Epoch 4/20\n",
      "1443/1443 [==============================] - 3s 2ms/step - loss: 0.3239 - accuracy: 0.8981 - val_loss: 0.3016 - val_accuracy: 0.9111\n",
      "Epoch 5/20\n",
      "1443/1443 [==============================] - 3s 2ms/step - loss: 0.3394 - accuracy: 0.8891 - val_loss: 0.3131 - val_accuracy: 0.9079\n",
      "Epoch 6/20\n",
      "1443/1443 [==============================] - 3s 2ms/step - loss: 0.1887 - accuracy: 0.9390 - val_loss: 0.2759 - val_accuracy: 0.8950\n",
      "Epoch 7/20\n",
      "1443/1443 [==============================] - 3s 2ms/step - loss: 0.2218 - accuracy: 0.9307 - val_loss: 0.3096 - val_accuracy: 0.8821\n",
      "Epoch 8/20\n",
      "1443/1443 [==============================] - 3s 2ms/step - loss: 0.2179 - accuracy: 0.9245 - val_loss: 0.3541 - val_accuracy: 0.8675\n",
      "Epoch 9/20\n",
      "1443/1443 [==============================] - 3s 2ms/step - loss: 0.2802 - accuracy: 0.8967 - val_loss: 0.2538 - val_accuracy: 0.9063\n",
      "Epoch 10/20\n",
      "1443/1443 [==============================] - 3s 2ms/step - loss: 0.1230 - accuracy: 0.9626 - val_loss: 0.3142 - val_accuracy: 0.8885\n",
      "Epoch 11/20\n",
      "1443/1443 [==============================] - 3s 2ms/step - loss: 0.1064 - accuracy: 0.9688 - val_loss: 0.3193 - val_accuracy: 0.8966\n",
      "Epoch 12/20\n",
      "1443/1443 [==============================] - 3s 2ms/step - loss: 0.1033 - accuracy: 0.9660 - val_loss: 0.1982 - val_accuracy: 0.9273\n",
      "Epoch 13/20\n",
      "1443/1443 [==============================] - 3s 2ms/step - loss: 0.0655 - accuracy: 0.9820 - val_loss: 0.2225 - val_accuracy: 0.9208\n",
      "Epoch 14/20\n",
      "1443/1443 [==============================] - 3s 2ms/step - loss: 0.0746 - accuracy: 0.9771 - val_loss: 0.2815 - val_accuracy: 0.8998\n",
      "Epoch 15/20\n",
      "1443/1443 [==============================] - 3s 2ms/step - loss: 0.0891 - accuracy: 0.9695 - val_loss: 0.2387 - val_accuracy: 0.9273\n",
      "Epoch 16/20\n",
      "1443/1443 [==============================] - 3s 2ms/step - loss: 0.0493 - accuracy: 0.9868 - val_loss: 0.2000 - val_accuracy: 0.9321\n",
      "Epoch 17/20\n",
      "1443/1443 [==============================] - 3s 2ms/step - loss: 0.0444 - accuracy: 0.9882 - val_loss: 0.3018 - val_accuracy: 0.9047\n",
      "Epoch 18/20\n",
      "1443/1443 [==============================] - 3s 2ms/step - loss: 0.0415 - accuracy: 0.9917 - val_loss: 0.1915 - val_accuracy: 0.9354\n",
      "Epoch 19/20\n",
      "1443/1443 [==============================] - 3s 2ms/step - loss: 0.0341 - accuracy: 0.9938 - val_loss: 0.2886 - val_accuracy: 0.9160\n",
      "Epoch 20/20\n",
      "1443/1443 [==============================] - 3s 2ms/step - loss: 0.0771 - accuracy: 0.9751 - val_loss: 0.2503 - val_accuracy: 0.9111\n"
     ]
    }
   ],
   "source": [
    "history = model.fit(X_train, y_train, epochs=20, batch_size=32, verbose=1, validation_data=(X_valid,y_valid))"
   ]
  },
  {
   "cell_type": "markdown",
   "metadata": {},
   "source": [
    "#### Prédictions sur X_valid"
   ]
  },
  {
   "cell_type": "code",
   "execution_count": 13,
   "metadata": {},
   "outputs": [],
   "source": [
    "yhat = model.predict(X_valid)"
   ]
  },
  {
   "cell_type": "markdown",
   "metadata": {},
   "source": [
    "#### Transformation des prédictions en Dataframe"
   ]
  },
  {
   "cell_type": "code",
   "execution_count": 15,
   "metadata": {},
   "outputs": [
    {
     "data": {
      "text/html": [
       "<div>\n",
       "<style scoped>\n",
       "    .dataframe tbody tr th:only-of-type {\n",
       "        vertical-align: middle;\n",
       "    }\n",
       "\n",
       "    .dataframe tbody tr th {\n",
       "        vertical-align: top;\n",
       "    }\n",
       "\n",
       "    .dataframe thead th {\n",
       "        text-align: right;\n",
       "    }\n",
       "</style>\n",
       "<table border=\"1\" class=\"dataframe\">\n",
       "  <thead>\n",
       "    <tr style=\"text-align: right;\">\n",
       "      <th></th>\n",
       "      <th>0</th>\n",
       "      <th>1</th>\n",
       "      <th>2</th>\n",
       "      <th>3</th>\n",
       "      <th>4</th>\n",
       "      <th>5</th>\n",
       "      <th>6</th>\n",
       "      <th>7</th>\n",
       "      <th>8</th>\n",
       "      <th>9</th>\n",
       "    </tr>\n",
       "  </thead>\n",
       "  <tbody>\n",
       "    <tr>\n",
       "      <td>0</td>\n",
       "      <td>0.000413</td>\n",
       "      <td>0.000296</td>\n",
       "      <td>0.000193</td>\n",
       "      <td>0.000916</td>\n",
       "      <td>0.000026</td>\n",
       "      <td>0.000240</td>\n",
       "      <td>0.996817</td>\n",
       "      <td>0.000103</td>\n",
       "      <td>0.000011</td>\n",
       "      <td>0.000986</td>\n",
       "    </tr>\n",
       "    <tr>\n",
       "      <td>1</td>\n",
       "      <td>0.000223</td>\n",
       "      <td>0.000173</td>\n",
       "      <td>0.000064</td>\n",
       "      <td>0.000016</td>\n",
       "      <td>0.000056</td>\n",
       "      <td>0.000226</td>\n",
       "      <td>0.001982</td>\n",
       "      <td>0.001221</td>\n",
       "      <td>0.000009</td>\n",
       "      <td>0.996031</td>\n",
       "    </tr>\n",
       "    <tr>\n",
       "      <td>2</td>\n",
       "      <td>0.000101</td>\n",
       "      <td>0.001994</td>\n",
       "      <td>0.013967</td>\n",
       "      <td>0.129035</td>\n",
       "      <td>0.023011</td>\n",
       "      <td>0.000886</td>\n",
       "      <td>0.005437</td>\n",
       "      <td>0.011717</td>\n",
       "      <td>0.813235</td>\n",
       "      <td>0.000617</td>\n",
       "    </tr>\n",
       "    <tr>\n",
       "      <td>3</td>\n",
       "      <td>0.000202</td>\n",
       "      <td>0.000170</td>\n",
       "      <td>0.000030</td>\n",
       "      <td>0.000009</td>\n",
       "      <td>0.000032</td>\n",
       "      <td>0.000236</td>\n",
       "      <td>0.000942</td>\n",
       "      <td>0.000932</td>\n",
       "      <td>0.000006</td>\n",
       "      <td>0.997441</td>\n",
       "    </tr>\n",
       "    <tr>\n",
       "      <td>4</td>\n",
       "      <td>0.996300</td>\n",
       "      <td>0.000119</td>\n",
       "      <td>0.000154</td>\n",
       "      <td>0.000013</td>\n",
       "      <td>0.000431</td>\n",
       "      <td>0.002007</td>\n",
       "      <td>0.000588</td>\n",
       "      <td>0.000203</td>\n",
       "      <td>0.000004</td>\n",
       "      <td>0.000180</td>\n",
       "    </tr>\n",
       "    <tr>\n",
       "      <td>...</td>\n",
       "      <td>...</td>\n",
       "      <td>...</td>\n",
       "      <td>...</td>\n",
       "      <td>...</td>\n",
       "      <td>...</td>\n",
       "      <td>...</td>\n",
       "      <td>...</td>\n",
       "      <td>...</td>\n",
       "      <td>...</td>\n",
       "      <td>...</td>\n",
       "    </tr>\n",
       "    <tr>\n",
       "      <td>614</td>\n",
       "      <td>0.000009</td>\n",
       "      <td>0.000184</td>\n",
       "      <td>0.000778</td>\n",
       "      <td>0.995364</td>\n",
       "      <td>0.000043</td>\n",
       "      <td>0.000044</td>\n",
       "      <td>0.001323</td>\n",
       "      <td>0.000234</td>\n",
       "      <td>0.002007</td>\n",
       "      <td>0.000015</td>\n",
       "    </tr>\n",
       "    <tr>\n",
       "      <td>615</td>\n",
       "      <td>0.000545</td>\n",
       "      <td>0.000279</td>\n",
       "      <td>0.000039</td>\n",
       "      <td>0.000018</td>\n",
       "      <td>0.000052</td>\n",
       "      <td>0.000255</td>\n",
       "      <td>0.002204</td>\n",
       "      <td>0.001139</td>\n",
       "      <td>0.000007</td>\n",
       "      <td>0.995463</td>\n",
       "    </tr>\n",
       "    <tr>\n",
       "      <td>616</td>\n",
       "      <td>0.000009</td>\n",
       "      <td>0.000154</td>\n",
       "      <td>0.000715</td>\n",
       "      <td>0.994456</td>\n",
       "      <td>0.000044</td>\n",
       "      <td>0.000046</td>\n",
       "      <td>0.001403</td>\n",
       "      <td>0.000369</td>\n",
       "      <td>0.002786</td>\n",
       "      <td>0.000019</td>\n",
       "    </tr>\n",
       "    <tr>\n",
       "      <td>617</td>\n",
       "      <td>0.000008</td>\n",
       "      <td>0.000117</td>\n",
       "      <td>0.000699</td>\n",
       "      <td>0.995864</td>\n",
       "      <td>0.000033</td>\n",
       "      <td>0.000036</td>\n",
       "      <td>0.001370</td>\n",
       "      <td>0.000279</td>\n",
       "      <td>0.001578</td>\n",
       "      <td>0.000016</td>\n",
       "    </tr>\n",
       "    <tr>\n",
       "      <td>618</td>\n",
       "      <td>0.000479</td>\n",
       "      <td>0.000726</td>\n",
       "      <td>0.000099</td>\n",
       "      <td>0.000033</td>\n",
       "      <td>0.996735</td>\n",
       "      <td>0.000502</td>\n",
       "      <td>0.000024</td>\n",
       "      <td>0.000118</td>\n",
       "      <td>0.001253</td>\n",
       "      <td>0.000031</td>\n",
       "    </tr>\n",
       "  </tbody>\n",
       "</table>\n",
       "<p>619 rows × 10 columns</p>\n",
       "</div>"
      ],
      "text/plain": [
       "            0         1         2         3         4         5         6  \\\n",
       "0    0.000413  0.000296  0.000193  0.000916  0.000026  0.000240  0.996817   \n",
       "1    0.000223  0.000173  0.000064  0.000016  0.000056  0.000226  0.001982   \n",
       "2    0.000101  0.001994  0.013967  0.129035  0.023011  0.000886  0.005437   \n",
       "3    0.000202  0.000170  0.000030  0.000009  0.000032  0.000236  0.000942   \n",
       "4    0.996300  0.000119  0.000154  0.000013  0.000431  0.002007  0.000588   \n",
       "..        ...       ...       ...       ...       ...       ...       ...   \n",
       "614  0.000009  0.000184  0.000778  0.995364  0.000043  0.000044  0.001323   \n",
       "615  0.000545  0.000279  0.000039  0.000018  0.000052  0.000255  0.002204   \n",
       "616  0.000009  0.000154  0.000715  0.994456  0.000044  0.000046  0.001403   \n",
       "617  0.000008  0.000117  0.000699  0.995864  0.000033  0.000036  0.001370   \n",
       "618  0.000479  0.000726  0.000099  0.000033  0.996735  0.000502  0.000024   \n",
       "\n",
       "            7         8         9  \n",
       "0    0.000103  0.000011  0.000986  \n",
       "1    0.001221  0.000009  0.996031  \n",
       "2    0.011717  0.813235  0.000617  \n",
       "3    0.000932  0.000006  0.997441  \n",
       "4    0.000203  0.000004  0.000180  \n",
       "..        ...       ...       ...  \n",
       "614  0.000234  0.002007  0.000015  \n",
       "615  0.001139  0.000007  0.995463  \n",
       "616  0.000369  0.002786  0.000019  \n",
       "617  0.000279  0.001578  0.000016  \n",
       "618  0.000118  0.001253  0.000031  \n",
       "\n",
       "[619 rows x 10 columns]"
      ]
     },
     "execution_count": 15,
     "metadata": {},
     "output_type": "execute_result"
    }
   ],
   "source": [
    "import pandas as pd\n",
    "from pandas import DataFrame\n",
    "df = DataFrame(yhat)\n",
    "df"
   ]
  },
  {
   "cell_type": "markdown",
   "metadata": {},
   "source": [
    "#### Identification de la classe majoritaire"
   ]
  },
  {
   "cell_type": "code",
   "execution_count": 26,
   "metadata": {},
   "outputs": [
    {
     "data": {
      "text/html": [
       "<div>\n",
       "<style scoped>\n",
       "    .dataframe tbody tr th:only-of-type {\n",
       "        vertical-align: middle;\n",
       "    }\n",
       "\n",
       "    .dataframe tbody tr th {\n",
       "        vertical-align: top;\n",
       "    }\n",
       "\n",
       "    .dataframe thead th {\n",
       "        text-align: right;\n",
       "    }\n",
       "</style>\n",
       "<table border=\"1\" class=\"dataframe\">\n",
       "  <thead>\n",
       "    <tr style=\"text-align: right;\">\n",
       "      <th></th>\n",
       "      <th>0</th>\n",
       "      <th>1</th>\n",
       "      <th>2</th>\n",
       "      <th>3</th>\n",
       "      <th>4</th>\n",
       "      <th>5</th>\n",
       "      <th>6</th>\n",
       "      <th>7</th>\n",
       "      <th>8</th>\n",
       "      <th>9</th>\n",
       "      <th>Class</th>\n",
       "    </tr>\n",
       "  </thead>\n",
       "  <tbody>\n",
       "    <tr>\n",
       "      <td>0</td>\n",
       "      <td>0.000413</td>\n",
       "      <td>0.000296</td>\n",
       "      <td>0.000193</td>\n",
       "      <td>0.000916</td>\n",
       "      <td>0.000026</td>\n",
       "      <td>0.000240</td>\n",
       "      <td>0.996817</td>\n",
       "      <td>0.000103</td>\n",
       "      <td>0.000011</td>\n",
       "      <td>0.000986</td>\n",
       "      <td>6</td>\n",
       "    </tr>\n",
       "    <tr>\n",
       "      <td>1</td>\n",
       "      <td>0.000223</td>\n",
       "      <td>0.000173</td>\n",
       "      <td>0.000064</td>\n",
       "      <td>0.000016</td>\n",
       "      <td>0.000056</td>\n",
       "      <td>0.000226</td>\n",
       "      <td>0.001982</td>\n",
       "      <td>0.001221</td>\n",
       "      <td>0.000009</td>\n",
       "      <td>0.996031</td>\n",
       "      <td>9</td>\n",
       "    </tr>\n",
       "    <tr>\n",
       "      <td>2</td>\n",
       "      <td>0.000101</td>\n",
       "      <td>0.001994</td>\n",
       "      <td>0.013967</td>\n",
       "      <td>0.129035</td>\n",
       "      <td>0.023011</td>\n",
       "      <td>0.000886</td>\n",
       "      <td>0.005437</td>\n",
       "      <td>0.011717</td>\n",
       "      <td>0.813235</td>\n",
       "      <td>0.000617</td>\n",
       "      <td>8</td>\n",
       "    </tr>\n",
       "    <tr>\n",
       "      <td>3</td>\n",
       "      <td>0.000202</td>\n",
       "      <td>0.000170</td>\n",
       "      <td>0.000030</td>\n",
       "      <td>0.000009</td>\n",
       "      <td>0.000032</td>\n",
       "      <td>0.000236</td>\n",
       "      <td>0.000942</td>\n",
       "      <td>0.000932</td>\n",
       "      <td>0.000006</td>\n",
       "      <td>0.997441</td>\n",
       "      <td>9</td>\n",
       "    </tr>\n",
       "    <tr>\n",
       "      <td>4</td>\n",
       "      <td>0.996300</td>\n",
       "      <td>0.000119</td>\n",
       "      <td>0.000154</td>\n",
       "      <td>0.000013</td>\n",
       "      <td>0.000431</td>\n",
       "      <td>0.002007</td>\n",
       "      <td>0.000588</td>\n",
       "      <td>0.000203</td>\n",
       "      <td>0.000004</td>\n",
       "      <td>0.000180</td>\n",
       "      <td>0</td>\n",
       "    </tr>\n",
       "    <tr>\n",
       "      <td>...</td>\n",
       "      <td>...</td>\n",
       "      <td>...</td>\n",
       "      <td>...</td>\n",
       "      <td>...</td>\n",
       "      <td>...</td>\n",
       "      <td>...</td>\n",
       "      <td>...</td>\n",
       "      <td>...</td>\n",
       "      <td>...</td>\n",
       "      <td>...</td>\n",
       "      <td>...</td>\n",
       "    </tr>\n",
       "    <tr>\n",
       "      <td>614</td>\n",
       "      <td>0.000009</td>\n",
       "      <td>0.000184</td>\n",
       "      <td>0.000778</td>\n",
       "      <td>0.995364</td>\n",
       "      <td>0.000043</td>\n",
       "      <td>0.000044</td>\n",
       "      <td>0.001323</td>\n",
       "      <td>0.000234</td>\n",
       "      <td>0.002007</td>\n",
       "      <td>0.000015</td>\n",
       "      <td>3</td>\n",
       "    </tr>\n",
       "    <tr>\n",
       "      <td>615</td>\n",
       "      <td>0.000545</td>\n",
       "      <td>0.000279</td>\n",
       "      <td>0.000039</td>\n",
       "      <td>0.000018</td>\n",
       "      <td>0.000052</td>\n",
       "      <td>0.000255</td>\n",
       "      <td>0.002204</td>\n",
       "      <td>0.001139</td>\n",
       "      <td>0.000007</td>\n",
       "      <td>0.995463</td>\n",
       "      <td>9</td>\n",
       "    </tr>\n",
       "    <tr>\n",
       "      <td>616</td>\n",
       "      <td>0.000009</td>\n",
       "      <td>0.000154</td>\n",
       "      <td>0.000715</td>\n",
       "      <td>0.994456</td>\n",
       "      <td>0.000044</td>\n",
       "      <td>0.000046</td>\n",
       "      <td>0.001403</td>\n",
       "      <td>0.000369</td>\n",
       "      <td>0.002786</td>\n",
       "      <td>0.000019</td>\n",
       "      <td>3</td>\n",
       "    </tr>\n",
       "    <tr>\n",
       "      <td>617</td>\n",
       "      <td>0.000008</td>\n",
       "      <td>0.000117</td>\n",
       "      <td>0.000699</td>\n",
       "      <td>0.995864</td>\n",
       "      <td>0.000033</td>\n",
       "      <td>0.000036</td>\n",
       "      <td>0.001370</td>\n",
       "      <td>0.000279</td>\n",
       "      <td>0.001578</td>\n",
       "      <td>0.000016</td>\n",
       "      <td>3</td>\n",
       "    </tr>\n",
       "    <tr>\n",
       "      <td>618</td>\n",
       "      <td>0.000479</td>\n",
       "      <td>0.000726</td>\n",
       "      <td>0.000099</td>\n",
       "      <td>0.000033</td>\n",
       "      <td>0.996735</td>\n",
       "      <td>0.000502</td>\n",
       "      <td>0.000024</td>\n",
       "      <td>0.000118</td>\n",
       "      <td>0.001253</td>\n",
       "      <td>0.000031</td>\n",
       "      <td>4</td>\n",
       "    </tr>\n",
       "  </tbody>\n",
       "</table>\n",
       "<p>619 rows × 11 columns</p>\n",
       "</div>"
      ],
      "text/plain": [
       "            0         1         2         3         4         5         6  \\\n",
       "0    0.000413  0.000296  0.000193  0.000916  0.000026  0.000240  0.996817   \n",
       "1    0.000223  0.000173  0.000064  0.000016  0.000056  0.000226  0.001982   \n",
       "2    0.000101  0.001994  0.013967  0.129035  0.023011  0.000886  0.005437   \n",
       "3    0.000202  0.000170  0.000030  0.000009  0.000032  0.000236  0.000942   \n",
       "4    0.996300  0.000119  0.000154  0.000013  0.000431  0.002007  0.000588   \n",
       "..        ...       ...       ...       ...       ...       ...       ...   \n",
       "614  0.000009  0.000184  0.000778  0.995364  0.000043  0.000044  0.001323   \n",
       "615  0.000545  0.000279  0.000039  0.000018  0.000052  0.000255  0.002204   \n",
       "616  0.000009  0.000154  0.000715  0.994456  0.000044  0.000046  0.001403   \n",
       "617  0.000008  0.000117  0.000699  0.995864  0.000033  0.000036  0.001370   \n",
       "618  0.000479  0.000726  0.000099  0.000033  0.996735  0.000502  0.000024   \n",
       "\n",
       "            7         8         9  Class  \n",
       "0    0.000103  0.000011  0.000986      6  \n",
       "1    0.001221  0.000009  0.996031      9  \n",
       "2    0.011717  0.813235  0.000617      8  \n",
       "3    0.000932  0.000006  0.997441      9  \n",
       "4    0.000203  0.000004  0.000180      0  \n",
       "..        ...       ...       ...    ...  \n",
       "614  0.000234  0.002007  0.000015      3  \n",
       "615  0.001139  0.000007  0.995463      9  \n",
       "616  0.000369  0.002786  0.000019      3  \n",
       "617  0.000279  0.001578  0.000016      3  \n",
       "618  0.000118  0.001253  0.000031      4  \n",
       "\n",
       "[619 rows x 11 columns]"
      ]
     },
     "execution_count": 26,
     "metadata": {},
     "output_type": "execute_result"
    }
   ],
   "source": [
    "df['Class'] = df.iloc[:,:10].idxmax(axis = 1) \n",
    "df"
   ]
  },
  {
   "cell_type": "markdown",
   "metadata": {},
   "source": [
    "#### Performance du modèle"
   ]
  },
  {
   "cell_type": "code",
   "execution_count": 32,
   "metadata": {},
   "outputs": [],
   "source": [
    "Y_predict = df['Class']"
   ]
  },
  {
   "cell_type": "code",
   "execution_count": 34,
   "metadata": {},
   "outputs": [],
   "source": [
    "y_valid_flat = [list(y).index(1) for y in y_valid]  # permet de faire une liste de valeurs de 0 à 9, pour avoir la meme structure que Y_predict"
   ]
  },
  {
   "cell_type": "code",
   "execution_count": 23,
   "metadata": {},
   "outputs": [
    {
     "name": "stdout",
     "output_type": "stream",
     "text": [
      "0.9111470113085622\n"
     ]
    }
   ],
   "source": [
    "from sklearn.metrics import accuracy_score\n",
    "accuracy = accuracy_score(y_valid_flat, Y_predict)\n",
    "print(accuracy)"
   ]
  },
  {
   "cell_type": "code",
   "execution_count": 22,
   "metadata": {},
   "outputs": [
    {
     "name": "stdout",
     "output_type": "stream",
     "text": [
      "Nombres de prédictions Valide : 564\n",
      "Nombres de mauvaise prédictions : 55\n"
     ]
    }
   ],
   "source": [
    "predict_ok = []\n",
    "true = 0\n",
    "false = 0\n",
    "for i in range(len(Y_predict)):\n",
    "    if Y_predict[i] == y_valid_flat[i]:\n",
    "        p = True \n",
    "        true += 1    \n",
    "    else:\n",
    "        p = False\n",
    "        false += 1\n",
    "    predict_ok.append(p)\n",
    "                \n",
    "predict_ok\n",
    "print('Nombres de prédictions Valide :',true)\n",
    "print('Nombres de mauvaise prédictions :',false)"
   ]
  },
  {
   "cell_type": "code",
   "execution_count": 25,
   "metadata": {},
   "outputs": [
    {
     "data": {
      "image/png": "[encoded data removed]",
      "text/plain": [
       "<Figure size 576x360 with 1 Axes>"
      ]
     },
     "metadata": {
      "needs_background": "light"
     },
     "output_type": "display_data"
    }
   ],
   "source": [
    "import matplotlib.pyplot as plt\n",
    "pd.DataFrame(history.history).plot(figsize=(8, 5))\n",
    "plt.grid(True)\n",
    "plt.title('Model performance throughout training')\n",
    "plt.ylabel('Loss')\n",
    "plt.xlabel('epoch')\n",
    "plt.show()"
   ]
  },
  {
   "cell_type": "code",
   "execution_count": null,
   "metadata": {},
   "outputs": [],
   "source": []
  }
 ],
 "metadata": {
  "kernelspec": {
   "display_name": "Python 3",
   "language": "python",
   "name": "python3"
  },
  "language_info": {
   "codemirror_mode": {
    "name": "ipython",
    "version": 3
   },
   "file_extension": ".py",
   "mimetype": "text/x-python",
   "name": "python",
   "nbconvert_exporter": "python",
   "pygments_lexer": "ipython3",
   "version": "3.7.4"
  }
 },
 "nbformat": 4,
 "nbformat_minor": 2
}
