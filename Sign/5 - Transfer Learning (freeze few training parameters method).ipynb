{
 "cells": [
  {
   "cell_type": "markdown",
   "metadata": {},
   "source": [
    "# SVC : Sign Language Digits"
   ]
  },
  {
   "cell_type": "markdown",
   "metadata": {},
   "source": [
    "## We load and shape our data"
   ]
  },
  {
   "cell_type": "code",
   "execution_count": 19,
   "metadata": {},
   "outputs": [
    {
     "data": {
      "text/plain": [
       "(2062, 64, 64, 3)"
      ]
     },
     "execution_count": 19,
     "metadata": {},
     "output_type": "execute_result"
    }
   ],
   "source": [
    "import numpy as np\n",
    "X = np.load('data/X.npy')\n",
    "Y = np.load('data/Y.npy')\n",
    "X = X.reshape(2062, 64, 64)\n",
    "X = np.stack((X, X, X), axis=3)\n",
    "X.shape"
   ]
  },
  {
   "cell_type": "markdown",
   "metadata": {},
   "source": [
    "## We split ours data in train and dev set with a fixed seed"
   ]
  },
  {
   "cell_type": "code",
   "execution_count": 20,
   "metadata": {},
   "outputs": [
    {
     "data": {
      "text/plain": [
       "(1443, 64, 64, 3)"
      ]
     },
     "execution_count": 20,
     "metadata": {},
     "output_type": "execute_result"
    }
   ],
   "source": [
    "from sklearn.model_selection import train_test_split\n",
    "x_train, x_dev, y_train, y_dev = train_test_split(X, Y, test_size=0.3, random_state=42)\n",
    "x_train.shape"
   ]
  },
  {
   "cell_type": "markdown",
   "metadata": {},
   "source": [
    "## We reshape the x in a 2d array "
   ]
  },
  {
   "cell_type": "code",
   "execution_count": 21,
   "metadata": {},
   "outputs": [
    {
     "name": "stderr",
     "output_type": "stream",
     "text": [
      "C:\\Users\\utilisateur\\Anaconda3\\lib\\site-packages\\keras_applications\\mobilenet.py:207: UserWarning: `input_shape` is undefined or non-square, or `rows` is not in [128, 160, 192, 224]. Weights for input shape (224, 224) will be loaded as the default.\n",
      "  warnings.warn('`input_shape` is undefined or non-square, '\n"
     ]
    }
   ],
   "source": [
    "from keras.applications import MobileNet\n",
    "mn_base = MobileNet(weights='imagenet', include_top=False, input_shape=(64, 64,3), classes=10)\n",
    "for layer in mn_base.layers[:50]:    # on gele les parametres d'entrainement du modele mn_base\n",
    "    layer.trainable = False"
   ]
  },
  {
   "cell_type": "code",
   "execution_count": 22,
   "metadata": {},
   "outputs": [
    {
     "data": {
      "text/plain": [
       "87"
      ]
     },
     "execution_count": 22,
     "metadata": {},
     "output_type": "execute_result"
    }
   ],
   "source": [
    "# Info sur vgg_base\n",
    "# mn_base.layers\n",
    "len(mn_base.layers)\n",
    "# mn_base.summary()"
   ]
  },
  {
   "cell_type": "markdown",
   "metadata": {},
   "source": [
    "## Initiate a model"
   ]
  },
  {
   "cell_type": "code",
   "execution_count": 23,
   "metadata": {},
   "outputs": [],
   "source": [
    "import keras\n",
    "from keras.models import Sequential\n",
    "from keras.layers import Dense, Activation, Dropout, Flatten,Conv2D, MaxPooling2D"
   ]
  },
  {
   "cell_type": "code",
   "execution_count": 24,
   "metadata": {},
   "outputs": [
    {
     "name": "stdout",
     "output_type": "stream",
     "text": [
      "WARNING:tensorflow:Large dropout rate: 0.8 (>0.5). In TensorFlow 2.x, dropout() uses dropout rate instead of keep_prob. Please ensure that this is intended.\n"
     ]
    }
   ],
   "source": [
    "model = Sequential() \n",
    "model.add(mn_base)\n",
    "model.add(Flatten())\n",
    "model.add(Dense(64,activation='relu'))\n",
    "model.add(Dropout(0.8))\n",
    "model.add(Dense(10, activation='softmax'))"
   ]
  },
  {
   "cell_type": "code",
   "execution_count": 25,
   "metadata": {},
   "outputs": [],
   "source": [
    "from keras.optimizers import SGD\n",
    "sgd = SGD(lr=0.1, momentum=0.9)\n",
    "model.compile(loss='categorical_crossentropy',\n",
    "              optimizer='adamax', \n",
    "              metrics=['accuracy'])"
   ]
  },
  {
   "cell_type": "code",
   "execution_count": 26,
   "metadata": {},
   "outputs": [
    {
     "name": "stdout",
     "output_type": "stream",
     "text": [
      "Train on 1443 samples, validate on 619 samples\n",
      "Epoch 1/15\n",
      "1443/1443 [==============================] - 33s 23ms/step - loss: 2.8051 - accuracy: 0.2100 - val_loss: 2.1749 - val_accuracy: 0.2730\n",
      "Epoch 2/15\n",
      "1443/1443 [==============================] - 27s 19ms/step - loss: 1.9623 - accuracy: 0.2703 - val_loss: 1.9246 - val_accuracy: 0.4249\n",
      "Epoch 3/15\n",
      "1443/1443 [==============================] - 29s 20ms/step - loss: 1.8349 - accuracy: 0.3243 - val_loss: 1.8599 - val_accuracy: 0.3570\n",
      "Epoch 4/15\n",
      "1443/1443 [==============================] - 28s 20ms/step - loss: 1.7143 - accuracy: 0.3659 - val_loss: 1.8690 - val_accuracy: 0.3748\n",
      "Epoch 5/15\n",
      "1443/1443 [==============================] - 27s 19ms/step - loss: 1.6206 - accuracy: 0.3756 - val_loss: 1.7549 - val_accuracy: 0.4006\n",
      "Epoch 6/15\n",
      "1443/1443 [==============================] - 28s 19ms/step - loss: 1.5511 - accuracy: 0.4061 - val_loss: 1.7653 - val_accuracy: 0.3813\n",
      "Epoch 7/15\n",
      "1443/1443 [==============================] - 26s 18ms/step - loss: 1.4347 - accuracy: 0.4546 - val_loss: 1.8259 - val_accuracy: 0.3700\n",
      "Epoch 8/15\n",
      "1443/1443 [==============================] - 26s 18ms/step - loss: 1.4417 - accuracy: 0.4407 - val_loss: 1.5984 - val_accuracy: 0.4410\n",
      "Epoch 9/15\n",
      "1443/1443 [==============================] - 28s 20ms/step - loss: 1.3711 - accuracy: 0.4518 - val_loss: 1.5991 - val_accuracy: 0.4378\n",
      "Epoch 10/15\n",
      "1443/1443 [==============================] - 38s 26ms/step - loss: 1.2895 - accuracy: 0.5080 - val_loss: 1.4344 - val_accuracy: 0.4911\n",
      "Epoch 11/15\n",
      "1443/1443 [==============================] - 34s 24ms/step - loss: 1.2229 - accuracy: 0.5094 - val_loss: 1.4265 - val_accuracy: 0.4895\n",
      "Epoch 12/15\n",
      "1443/1443 [==============================] - 28s 19ms/step - loss: 1.2206 - accuracy: 0.5267 - val_loss: 1.2860 - val_accuracy: 0.5687\n",
      "Epoch 13/15\n",
      "1443/1443 [==============================] - 34s 23ms/step - loss: 1.1975 - accuracy: 0.5322 - val_loss: 1.2268 - val_accuracy: 0.5800\n",
      "Epoch 14/15\n",
      "1443/1443 [==============================] - 36s 25ms/step - loss: 1.1122 - accuracy: 0.5648 - val_loss: 1.2929 - val_accuracy: 0.5460\n",
      "Epoch 15/15\n",
      "1443/1443 [==============================] - 37s 25ms/step - loss: 1.0907 - accuracy: 0.5904 - val_loss: 1.3069 - val_accuracy: 0.5784\n"
     ]
    }
   ],
   "source": [
    "history = model.fit(x_train, y_train, batch_size=32, epochs=15, verbose=1, validation_data=(x_dev,y_dev), shuffle=True)"
   ]
  },
  {
   "cell_type": "code",
   "execution_count": 27,
   "metadata": {},
   "outputs": [],
   "source": [
    "yhat = model.predict(x_dev)"
   ]
  },
  {
   "cell_type": "code",
   "execution_count": 28,
   "metadata": {},
   "outputs": [
    {
     "data": {
      "text/html": [
       "<div>\n",
       "<style scoped>\n",
       "    .dataframe tbody tr th:only-of-type {\n",
       "        vertical-align: middle;\n",
       "    }\n",
       "\n",
       "    .dataframe tbody tr th {\n",
       "        vertical-align: top;\n",
       "    }\n",
       "\n",
       "    .dataframe thead th {\n",
       "        text-align: right;\n",
       "    }\n",
       "</style>\n",
       "<table border=\"1\" class=\"dataframe\">\n",
       "  <thead>\n",
       "    <tr style=\"text-align: right;\">\n",
       "      <th></th>\n",
       "      <th>0</th>\n",
       "      <th>1</th>\n",
       "      <th>2</th>\n",
       "      <th>3</th>\n",
       "      <th>4</th>\n",
       "      <th>5</th>\n",
       "      <th>6</th>\n",
       "      <th>7</th>\n",
       "      <th>8</th>\n",
       "      <th>9</th>\n",
       "    </tr>\n",
       "  </thead>\n",
       "  <tbody>\n",
       "    <tr>\n",
       "      <td>0</td>\n",
       "      <td>4.574367e-03</td>\n",
       "      <td>7.890855e-01</td>\n",
       "      <td>1.741875e-03</td>\n",
       "      <td>1.001703e-01</td>\n",
       "      <td>3.683139e-03</td>\n",
       "      <td>1.136672e-02</td>\n",
       "      <td>7.362024e-02</td>\n",
       "      <td>0.000957</td>\n",
       "      <td>1.398559e-02</td>\n",
       "      <td>0.000815</td>\n",
       "    </tr>\n",
       "    <tr>\n",
       "      <td>1</td>\n",
       "      <td>1.605967e-10</td>\n",
       "      <td>1.634809e-12</td>\n",
       "      <td>3.154676e-09</td>\n",
       "      <td>7.096783e-11</td>\n",
       "      <td>1.523065e-09</td>\n",
       "      <td>8.469746e-11</td>\n",
       "      <td>3.122367e-10</td>\n",
       "      <td>0.000003</td>\n",
       "      <td>3.924701e-10</td>\n",
       "      <td>0.999997</td>\n",
       "    </tr>\n",
       "    <tr>\n",
       "      <td>2</td>\n",
       "      <td>3.497797e-02</td>\n",
       "      <td>2.416698e-01</td>\n",
       "      <td>8.489125e-02</td>\n",
       "      <td>5.769776e-02</td>\n",
       "      <td>1.861505e-01</td>\n",
       "      <td>9.811297e-02</td>\n",
       "      <td>5.932048e-02</td>\n",
       "      <td>0.072913</td>\n",
       "      <td>1.014193e-01</td>\n",
       "      <td>0.062847</td>\n",
       "    </tr>\n",
       "    <tr>\n",
       "      <td>3</td>\n",
       "      <td>6.288915e-06</td>\n",
       "      <td>2.270283e-07</td>\n",
       "      <td>1.677756e-05</td>\n",
       "      <td>1.271342e-06</td>\n",
       "      <td>1.103612e-05</td>\n",
       "      <td>1.796705e-06</td>\n",
       "      <td>3.154747e-06</td>\n",
       "      <td>0.000621</td>\n",
       "      <td>1.835274e-06</td>\n",
       "      <td>0.999336</td>\n",
       "    </tr>\n",
       "    <tr>\n",
       "      <td>4</td>\n",
       "      <td>8.062939e-02</td>\n",
       "      <td>1.613808e-01</td>\n",
       "      <td>7.511082e-02</td>\n",
       "      <td>6.501303e-02</td>\n",
       "      <td>2.426203e-01</td>\n",
       "      <td>6.731687e-02</td>\n",
       "      <td>5.490712e-02</td>\n",
       "      <td>0.061198</td>\n",
       "      <td>1.228402e-01</td>\n",
       "      <td>0.068983</td>\n",
       "    </tr>\n",
       "    <tr>\n",
       "      <td>...</td>\n",
       "      <td>...</td>\n",
       "      <td>...</td>\n",
       "      <td>...</td>\n",
       "      <td>...</td>\n",
       "      <td>...</td>\n",
       "      <td>...</td>\n",
       "      <td>...</td>\n",
       "      <td>...</td>\n",
       "      <td>...</td>\n",
       "      <td>...</td>\n",
       "    </tr>\n",
       "    <tr>\n",
       "      <td>614</td>\n",
       "      <td>8.132435e-03</td>\n",
       "      <td>4.618424e-01</td>\n",
       "      <td>4.985399e-03</td>\n",
       "      <td>1.020928e-01</td>\n",
       "      <td>1.166536e-01</td>\n",
       "      <td>9.529877e-03</td>\n",
       "      <td>9.934276e-02</td>\n",
       "      <td>0.003016</td>\n",
       "      <td>1.874708e-01</td>\n",
       "      <td>0.006934</td>\n",
       "    </tr>\n",
       "    <tr>\n",
       "      <td>615</td>\n",
       "      <td>2.935915e-02</td>\n",
       "      <td>3.874110e-02</td>\n",
       "      <td>2.886439e-02</td>\n",
       "      <td>4.877743e-02</td>\n",
       "      <td>3.570353e-02</td>\n",
       "      <td>5.407830e-02</td>\n",
       "      <td>1.725967e-02</td>\n",
       "      <td>0.319614</td>\n",
       "      <td>2.821099e-02</td>\n",
       "      <td>0.399392</td>\n",
       "    </tr>\n",
       "    <tr>\n",
       "      <td>616</td>\n",
       "      <td>5.598523e-03</td>\n",
       "      <td>2.541902e-01</td>\n",
       "      <td>5.545001e-03</td>\n",
       "      <td>1.921193e-01</td>\n",
       "      <td>2.902955e-03</td>\n",
       "      <td>3.265041e-02</td>\n",
       "      <td>4.773314e-01</td>\n",
       "      <td>0.001824</td>\n",
       "      <td>2.629231e-02</td>\n",
       "      <td>0.001546</td>\n",
       "    </tr>\n",
       "    <tr>\n",
       "      <td>617</td>\n",
       "      <td>2.835255e-02</td>\n",
       "      <td>9.045789e-02</td>\n",
       "      <td>5.387576e-02</td>\n",
       "      <td>1.834093e-01</td>\n",
       "      <td>4.965771e-02</td>\n",
       "      <td>1.199171e-01</td>\n",
       "      <td>3.508073e-01</td>\n",
       "      <td>0.023371</td>\n",
       "      <td>7.495367e-02</td>\n",
       "      <td>0.025198</td>\n",
       "    </tr>\n",
       "    <tr>\n",
       "      <td>618</td>\n",
       "      <td>7.177517e-04</td>\n",
       "      <td>9.516718e-01</td>\n",
       "      <td>4.027371e-04</td>\n",
       "      <td>1.867079e-02</td>\n",
       "      <td>8.952389e-03</td>\n",
       "      <td>1.491551e-03</td>\n",
       "      <td>5.345603e-03</td>\n",
       "      <td>0.000383</td>\n",
       "      <td>1.204410e-02</td>\n",
       "      <td>0.000321</td>\n",
       "    </tr>\n",
       "  </tbody>\n",
       "</table>\n",
       "<p>619 rows × 10 columns</p>\n",
       "</div>"
      ],
      "text/plain": [
       "                0             1             2             3             4  \\\n",
       "0    4.574367e-03  7.890855e-01  1.741875e-03  1.001703e-01  3.683139e-03   \n",
       "1    1.605967e-10  1.634809e-12  3.154676e-09  7.096783e-11  1.523065e-09   \n",
       "2    3.497797e-02  2.416698e-01  8.489125e-02  5.769776e-02  1.861505e-01   \n",
       "3    6.288915e-06  2.270283e-07  1.677756e-05  1.271342e-06  1.103612e-05   \n",
       "4    8.062939e-02  1.613808e-01  7.511082e-02  6.501303e-02  2.426203e-01   \n",
       "..            ...           ...           ...           ...           ...   \n",
       "614  8.132435e-03  4.618424e-01  4.985399e-03  1.020928e-01  1.166536e-01   \n",
       "615  2.935915e-02  3.874110e-02  2.886439e-02  4.877743e-02  3.570353e-02   \n",
       "616  5.598523e-03  2.541902e-01  5.545001e-03  1.921193e-01  2.902955e-03   \n",
       "617  2.835255e-02  9.045789e-02  5.387576e-02  1.834093e-01  4.965771e-02   \n",
       "618  7.177517e-04  9.516718e-01  4.027371e-04  1.867079e-02  8.952389e-03   \n",
       "\n",
       "                5             6         7             8         9  \n",
       "0    1.136672e-02  7.362024e-02  0.000957  1.398559e-02  0.000815  \n",
       "1    8.469746e-11  3.122367e-10  0.000003  3.924701e-10  0.999997  \n",
       "2    9.811297e-02  5.932048e-02  0.072913  1.014193e-01  0.062847  \n",
       "3    1.796705e-06  3.154747e-06  0.000621  1.835274e-06  0.999336  \n",
       "4    6.731687e-02  5.490712e-02  0.061198  1.228402e-01  0.068983  \n",
       "..            ...           ...       ...           ...       ...  \n",
       "614  9.529877e-03  9.934276e-02  0.003016  1.874708e-01  0.006934  \n",
       "615  5.407830e-02  1.725967e-02  0.319614  2.821099e-02  0.399392  \n",
       "616  3.265041e-02  4.773314e-01  0.001824  2.629231e-02  0.001546  \n",
       "617  1.199171e-01  3.508073e-01  0.023371  7.495367e-02  0.025198  \n",
       "618  1.491551e-03  5.345603e-03  0.000383  1.204410e-02  0.000321  \n",
       "\n",
       "[619 rows x 10 columns]"
      ]
     },
     "execution_count": 28,
     "metadata": {},
     "output_type": "execute_result"
    }
   ],
   "source": [
    "import pandas as pd\n",
    "from pandas import DataFrame\n",
    "df = DataFrame(yhat)\n",
    "df"
   ]
  },
  {
   "cell_type": "code",
   "execution_count": 29,
   "metadata": {},
   "outputs": [
    {
     "data": {
      "text/html": [
       "<div>\n",
       "<style scoped>\n",
       "    .dataframe tbody tr th:only-of-type {\n",
       "        vertical-align: middle;\n",
       "    }\n",
       "\n",
       "    .dataframe tbody tr th {\n",
       "        vertical-align: top;\n",
       "    }\n",
       "\n",
       "    .dataframe thead th {\n",
       "        text-align: right;\n",
       "    }\n",
       "</style>\n",
       "<table border=\"1\" class=\"dataframe\">\n",
       "  <thead>\n",
       "    <tr style=\"text-align: right;\">\n",
       "      <th></th>\n",
       "      <th>0</th>\n",
       "      <th>1</th>\n",
       "      <th>2</th>\n",
       "      <th>3</th>\n",
       "      <th>4</th>\n",
       "      <th>5</th>\n",
       "      <th>6</th>\n",
       "      <th>7</th>\n",
       "      <th>8</th>\n",
       "      <th>9</th>\n",
       "      <th>Class</th>\n",
       "    </tr>\n",
       "  </thead>\n",
       "  <tbody>\n",
       "    <tr>\n",
       "      <td>0</td>\n",
       "      <td>4.574367e-03</td>\n",
       "      <td>7.890855e-01</td>\n",
       "      <td>1.741875e-03</td>\n",
       "      <td>1.001703e-01</td>\n",
       "      <td>3.683139e-03</td>\n",
       "      <td>1.136672e-02</td>\n",
       "      <td>7.362024e-02</td>\n",
       "      <td>0.000957</td>\n",
       "      <td>1.398559e-02</td>\n",
       "      <td>0.000815</td>\n",
       "      <td>1</td>\n",
       "    </tr>\n",
       "    <tr>\n",
       "      <td>1</td>\n",
       "      <td>1.605967e-10</td>\n",
       "      <td>1.634809e-12</td>\n",
       "      <td>3.154676e-09</td>\n",
       "      <td>7.096783e-11</td>\n",
       "      <td>1.523065e-09</td>\n",
       "      <td>8.469746e-11</td>\n",
       "      <td>3.122367e-10</td>\n",
       "      <td>0.000003</td>\n",
       "      <td>3.924701e-10</td>\n",
       "      <td>0.999997</td>\n",
       "      <td>9</td>\n",
       "    </tr>\n",
       "    <tr>\n",
       "      <td>2</td>\n",
       "      <td>3.497797e-02</td>\n",
       "      <td>2.416698e-01</td>\n",
       "      <td>8.489125e-02</td>\n",
       "      <td>5.769776e-02</td>\n",
       "      <td>1.861505e-01</td>\n",
       "      <td>9.811297e-02</td>\n",
       "      <td>5.932048e-02</td>\n",
       "      <td>0.072913</td>\n",
       "      <td>1.014193e-01</td>\n",
       "      <td>0.062847</td>\n",
       "      <td>1</td>\n",
       "    </tr>\n",
       "    <tr>\n",
       "      <td>3</td>\n",
       "      <td>6.288915e-06</td>\n",
       "      <td>2.270283e-07</td>\n",
       "      <td>1.677756e-05</td>\n",
       "      <td>1.271342e-06</td>\n",
       "      <td>1.103612e-05</td>\n",
       "      <td>1.796705e-06</td>\n",
       "      <td>3.154747e-06</td>\n",
       "      <td>0.000621</td>\n",
       "      <td>1.835274e-06</td>\n",
       "      <td>0.999336</td>\n",
       "      <td>9</td>\n",
       "    </tr>\n",
       "    <tr>\n",
       "      <td>4</td>\n",
       "      <td>8.062939e-02</td>\n",
       "      <td>1.613808e-01</td>\n",
       "      <td>7.511082e-02</td>\n",
       "      <td>6.501303e-02</td>\n",
       "      <td>2.426203e-01</td>\n",
       "      <td>6.731687e-02</td>\n",
       "      <td>5.490712e-02</td>\n",
       "      <td>0.061198</td>\n",
       "      <td>1.228402e-01</td>\n",
       "      <td>0.068983</td>\n",
       "      <td>4</td>\n",
       "    </tr>\n",
       "    <tr>\n",
       "      <td>...</td>\n",
       "      <td>...</td>\n",
       "      <td>...</td>\n",
       "      <td>...</td>\n",
       "      <td>...</td>\n",
       "      <td>...</td>\n",
       "      <td>...</td>\n",
       "      <td>...</td>\n",
       "      <td>...</td>\n",
       "      <td>...</td>\n",
       "      <td>...</td>\n",
       "      <td>...</td>\n",
       "    </tr>\n",
       "    <tr>\n",
       "      <td>614</td>\n",
       "      <td>8.132435e-03</td>\n",
       "      <td>4.618424e-01</td>\n",
       "      <td>4.985399e-03</td>\n",
       "      <td>1.020928e-01</td>\n",
       "      <td>1.166536e-01</td>\n",
       "      <td>9.529877e-03</td>\n",
       "      <td>9.934276e-02</td>\n",
       "      <td>0.003016</td>\n",
       "      <td>1.874708e-01</td>\n",
       "      <td>0.006934</td>\n",
       "      <td>1</td>\n",
       "    </tr>\n",
       "    <tr>\n",
       "      <td>615</td>\n",
       "      <td>2.935915e-02</td>\n",
       "      <td>3.874110e-02</td>\n",
       "      <td>2.886439e-02</td>\n",
       "      <td>4.877743e-02</td>\n",
       "      <td>3.570353e-02</td>\n",
       "      <td>5.407830e-02</td>\n",
       "      <td>1.725967e-02</td>\n",
       "      <td>0.319614</td>\n",
       "      <td>2.821099e-02</td>\n",
       "      <td>0.399392</td>\n",
       "      <td>9</td>\n",
       "    </tr>\n",
       "    <tr>\n",
       "      <td>616</td>\n",
       "      <td>5.598523e-03</td>\n",
       "      <td>2.541902e-01</td>\n",
       "      <td>5.545001e-03</td>\n",
       "      <td>1.921193e-01</td>\n",
       "      <td>2.902955e-03</td>\n",
       "      <td>3.265041e-02</td>\n",
       "      <td>4.773314e-01</td>\n",
       "      <td>0.001824</td>\n",
       "      <td>2.629231e-02</td>\n",
       "      <td>0.001546</td>\n",
       "      <td>6</td>\n",
       "    </tr>\n",
       "    <tr>\n",
       "      <td>617</td>\n",
       "      <td>2.835255e-02</td>\n",
       "      <td>9.045789e-02</td>\n",
       "      <td>5.387576e-02</td>\n",
       "      <td>1.834093e-01</td>\n",
       "      <td>4.965771e-02</td>\n",
       "      <td>1.199171e-01</td>\n",
       "      <td>3.508073e-01</td>\n",
       "      <td>0.023371</td>\n",
       "      <td>7.495367e-02</td>\n",
       "      <td>0.025198</td>\n",
       "      <td>6</td>\n",
       "    </tr>\n",
       "    <tr>\n",
       "      <td>618</td>\n",
       "      <td>7.177517e-04</td>\n",
       "      <td>9.516718e-01</td>\n",
       "      <td>4.027371e-04</td>\n",
       "      <td>1.867079e-02</td>\n",
       "      <td>8.952389e-03</td>\n",
       "      <td>1.491551e-03</td>\n",
       "      <td>5.345603e-03</td>\n",
       "      <td>0.000383</td>\n",
       "      <td>1.204410e-02</td>\n",
       "      <td>0.000321</td>\n",
       "      <td>1</td>\n",
       "    </tr>\n",
       "  </tbody>\n",
       "</table>\n",
       "<p>619 rows × 11 columns</p>\n",
       "</div>"
      ],
      "text/plain": [
       "                0             1             2             3             4  \\\n",
       "0    4.574367e-03  7.890855e-01  1.741875e-03  1.001703e-01  3.683139e-03   \n",
       "1    1.605967e-10  1.634809e-12  3.154676e-09  7.096783e-11  1.523065e-09   \n",
       "2    3.497797e-02  2.416698e-01  8.489125e-02  5.769776e-02  1.861505e-01   \n",
       "3    6.288915e-06  2.270283e-07  1.677756e-05  1.271342e-06  1.103612e-05   \n",
       "4    8.062939e-02  1.613808e-01  7.511082e-02  6.501303e-02  2.426203e-01   \n",
       "..            ...           ...           ...           ...           ...   \n",
       "614  8.132435e-03  4.618424e-01  4.985399e-03  1.020928e-01  1.166536e-01   \n",
       "615  2.935915e-02  3.874110e-02  2.886439e-02  4.877743e-02  3.570353e-02   \n",
       "616  5.598523e-03  2.541902e-01  5.545001e-03  1.921193e-01  2.902955e-03   \n",
       "617  2.835255e-02  9.045789e-02  5.387576e-02  1.834093e-01  4.965771e-02   \n",
       "618  7.177517e-04  9.516718e-01  4.027371e-04  1.867079e-02  8.952389e-03   \n",
       "\n",
       "                5             6         7             8         9  Class  \n",
       "0    1.136672e-02  7.362024e-02  0.000957  1.398559e-02  0.000815      1  \n",
       "1    8.469746e-11  3.122367e-10  0.000003  3.924701e-10  0.999997      9  \n",
       "2    9.811297e-02  5.932048e-02  0.072913  1.014193e-01  0.062847      1  \n",
       "3    1.796705e-06  3.154747e-06  0.000621  1.835274e-06  0.999336      9  \n",
       "4    6.731687e-02  5.490712e-02  0.061198  1.228402e-01  0.068983      4  \n",
       "..            ...           ...       ...           ...       ...    ...  \n",
       "614  9.529877e-03  9.934276e-02  0.003016  1.874708e-01  0.006934      1  \n",
       "615  5.407830e-02  1.725967e-02  0.319614  2.821099e-02  0.399392      9  \n",
       "616  3.265041e-02  4.773314e-01  0.001824  2.629231e-02  0.001546      6  \n",
       "617  1.199171e-01  3.508073e-01  0.023371  7.495367e-02  0.025198      6  \n",
       "618  1.491551e-03  5.345603e-03  0.000383  1.204410e-02  0.000321      1  \n",
       "\n",
       "[619 rows x 11 columns]"
      ]
     },
     "execution_count": 29,
     "metadata": {},
     "output_type": "execute_result"
    }
   ],
   "source": [
    "df['Class'] = df.iloc[:,:10].idxmax(axis = 1) \n",
    "df"
   ]
  },
  {
   "cell_type": "code",
   "execution_count": 30,
   "metadata": {},
   "outputs": [],
   "source": [
    "Y_predict = df['Class']"
   ]
  },
  {
   "cell_type": "code",
   "execution_count": 31,
   "metadata": {},
   "outputs": [],
   "source": [
    "y_dev_flat = [list(y).index(1) for y in y_dev]  # permet de faire une liste de valeurs de 0 à 9, pour avoir la meme structure que Y_predict"
   ]
  },
  {
   "cell_type": "code",
   "execution_count": 32,
   "metadata": {},
   "outputs": [
    {
     "name": "stdout",
     "output_type": "stream",
     "text": [
      "0.5783521809369951\n"
     ]
    }
   ],
   "source": [
    "from sklearn.metrics import accuracy_score\n",
    "accuracy = accuracy_score(y_dev_flat, Y_predict)\n",
    "print(accuracy)"
   ]
  },
  {
   "cell_type": "code",
   "execution_count": 33,
   "metadata": {},
   "outputs": [
    {
     "name": "stdout",
     "output_type": "stream",
     "text": [
      "Nombres de prédictions Valide : 358\n",
      "Nombres de mauvaise prédictions : 261\n"
     ]
    }
   ],
   "source": [
    "predict_ok = []\n",
    "true = 0\n",
    "false = 0\n",
    "for i in range(len(Y_predict)):\n",
    "    if Y_predict[i] == y_dev_flat[i]:\n",
    "        p = True \n",
    "        true += 1    \n",
    "    else:\n",
    "        p = False\n",
    "        false += 1\n",
    "    predict_ok.append(p)\n",
    "                \n",
    "predict_ok\n",
    "print('Nombres de prédictions Valide :',true)\n",
    "print('Nombres de mauvaise prédictions :',false)"
   ]
  },
  {
   "cell_type": "code",
   "execution_count": 34,
   "metadata": {},
   "outputs": [
    {
     "data": {
      "image/png": "[encoded data removed]",
      "text/plain": [
       "<Figure size 576x360 with 1 Axes>"
      ]
     },
     "metadata": {
      "needs_background": "light"
     },
     "output_type": "display_data"
    }
   ],
   "source": [
    "import matplotlib.pyplot as plt\n",
    "import pandas as pd\n",
    "pd.DataFrame(history.history).plot(figsize=(8, 5))\n",
    "plt.grid(True)\n",
    "plt.title('Model performance throughout training')\n",
    "plt.ylabel('Loss')\n",
    "plt.xlabel('epoch')\n",
    "plt.show()"
   ]
  }
 ],
 "metadata": {
  "kernelspec": {
   "display_name": "Python 3",
   "language": "python",
   "name": "python3"
  }
 },
 "nbformat": 4,
 "nbformat_minor": 2
}
